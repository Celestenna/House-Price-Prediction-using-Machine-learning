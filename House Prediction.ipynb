{
 "cells": [
  {
   "cell_type": "markdown",
   "id": "972845d5",
   "metadata": {},
   "source": [
    "### Predicting Nigerian House Prices Using ML\n",
    "\n",
    "**Project Description:**\n",
    "Exploring the Nigerian house dataset. In this project, we will be performing\n",
    "Data cleaning,Explorative Data Analysis,buiding a model to predict the price of a house based on the feature in the dataset"
   ]
  },
  {
   "cell_type": "markdown",
   "id": "70422b7e",
   "metadata": {},
   "source": [
    "### Import libraries"
   ]
  },
  {
   "cell_type": "code",
   "execution_count": 1,
   "id": "e36c280d",
   "metadata": {},
   "outputs": [],
   "source": [
    "import numpy as np\n",
    "import pandas as pd\n",
    "import matplotlib.pyplot as plt \n",
    "import seaborn as sns \n",
    "\n",
    "%matplotlib inline"
   ]
  },
  {
   "cell_type": "markdown",
   "id": "cd99a26b",
   "metadata": {},
   "source": [
    "### Import Dataset"
   ]
  },
  {
   "cell_type": "code",
   "execution_count": 2,
   "id": "bb3777b9",
   "metadata": {},
   "outputs": [
    {
     "data": {
      "text/html": [
       "<div>\n",
       "<style scoped>\n",
       "    .dataframe tbody tr th:only-of-type {\n",
       "        vertical-align: middle;\n",
       "    }\n",
       "\n",
       "    .dataframe tbody tr th {\n",
       "        vertical-align: top;\n",
       "    }\n",
       "\n",
       "    .dataframe thead th {\n",
       "        text-align: right;\n",
       "    }\n",
       "</style>\n",
       "<table border=\"1\" class=\"dataframe\">\n",
       "  <thead>\n",
       "    <tr style=\"text-align: right;\">\n",
       "      <th></th>\n",
       "      <th>bedrooms</th>\n",
       "      <th>bathrooms</th>\n",
       "      <th>toilets</th>\n",
       "      <th>parking_space</th>\n",
       "      <th>title</th>\n",
       "      <th>town</th>\n",
       "      <th>state</th>\n",
       "      <th>price</th>\n",
       "    </tr>\n",
       "  </thead>\n",
       "  <tbody>\n",
       "    <tr>\n",
       "      <th>0</th>\n",
       "      <td>6.0</td>\n",
       "      <td>5.0</td>\n",
       "      <td>5.0</td>\n",
       "      <td>4.0</td>\n",
       "      <td>Detached Duplex</td>\n",
       "      <td>Mabushi</td>\n",
       "      <td>Abuja</td>\n",
       "      <td>450000000.0</td>\n",
       "    </tr>\n",
       "    <tr>\n",
       "      <th>1</th>\n",
       "      <td>4.0</td>\n",
       "      <td>5.0</td>\n",
       "      <td>5.0</td>\n",
       "      <td>4.0</td>\n",
       "      <td>Terraced Duplexes</td>\n",
       "      <td>Katampe</td>\n",
       "      <td>Abuja</td>\n",
       "      <td>800000000.0</td>\n",
       "    </tr>\n",
       "    <tr>\n",
       "      <th>2</th>\n",
       "      <td>4.0</td>\n",
       "      <td>5.0</td>\n",
       "      <td>5.0</td>\n",
       "      <td>4.0</td>\n",
       "      <td>Detached Duplex</td>\n",
       "      <td>Lekki</td>\n",
       "      <td>Lagos</td>\n",
       "      <td>120000000.0</td>\n",
       "    </tr>\n",
       "    <tr>\n",
       "      <th>3</th>\n",
       "      <td>4.0</td>\n",
       "      <td>4.0</td>\n",
       "      <td>5.0</td>\n",
       "      <td>6.0</td>\n",
       "      <td>Detached Duplex</td>\n",
       "      <td>Ajah</td>\n",
       "      <td>Lagos</td>\n",
       "      <td>40000000.0</td>\n",
       "    </tr>\n",
       "    <tr>\n",
       "      <th>4</th>\n",
       "      <td>4.0</td>\n",
       "      <td>4.0</td>\n",
       "      <td>5.0</td>\n",
       "      <td>2.0</td>\n",
       "      <td>Semi Detached Duplex</td>\n",
       "      <td>Lekki</td>\n",
       "      <td>Lagos</td>\n",
       "      <td>75000000.0</td>\n",
       "    </tr>\n",
       "  </tbody>\n",
       "</table>\n",
       "</div>"
      ],
      "text/plain": [
       "   bedrooms  bathrooms  toilets  parking_space                 title     town  \\\n",
       "0       6.0        5.0      5.0            4.0       Detached Duplex  Mabushi   \n",
       "1       4.0        5.0      5.0            4.0     Terraced Duplexes  Katampe   \n",
       "2       4.0        5.0      5.0            4.0       Detached Duplex    Lekki   \n",
       "3       4.0        4.0      5.0            6.0       Detached Duplex     Ajah   \n",
       "4       4.0        4.0      5.0            2.0  Semi Detached Duplex    Lekki   \n",
       "\n",
       "   state        price  \n",
       "0  Abuja  450000000.0  \n",
       "1  Abuja  800000000.0  \n",
       "2  Lagos  120000000.0  \n",
       "3  Lagos   40000000.0  \n",
       "4  Lagos   75000000.0  "
      ]
     },
     "execution_count": 2,
     "metadata": {},
     "output_type": "execute_result"
    }
   ],
   "source": [
    "df=pd.read_csv('nigeria_houses_data.csv')\n",
    "\n",
    "df.head()"
   ]
  },
  {
   "cell_type": "markdown",
   "id": "2bb44043",
   "metadata": {},
   "source": [
    "### Understanding the dataset"
   ]
  },
  {
   "cell_type": "code",
   "execution_count": 3,
   "id": "c9a17a6f",
   "metadata": {},
   "outputs": [
    {
     "data": {
      "text/plain": [
       "(24326, 8)"
      ]
     },
     "execution_count": 3,
     "metadata": {},
     "output_type": "execute_result"
    }
   ],
   "source": [
    "# check the shape\n",
    "df.shape"
   ]
  },
  {
   "cell_type": "markdown",
   "id": "4d33a725",
   "metadata": {},
   "source": [
    "* The Dataset contains 24,326 records and 8 features"
   ]
  },
  {
   "cell_type": "code",
   "execution_count": 4,
   "id": "29f5aef3",
   "metadata": {},
   "outputs": [
    {
     "data": {
      "text/html": [
       "<div>\n",
       "<style scoped>\n",
       "    .dataframe tbody tr th:only-of-type {\n",
       "        vertical-align: middle;\n",
       "    }\n",
       "\n",
       "    .dataframe tbody tr th {\n",
       "        vertical-align: top;\n",
       "    }\n",
       "\n",
       "    .dataframe thead th {\n",
       "        text-align: right;\n",
       "    }\n",
       "</style>\n",
       "<table border=\"1\" class=\"dataframe\">\n",
       "  <thead>\n",
       "    <tr style=\"text-align: right;\">\n",
       "      <th></th>\n",
       "      <th>bedrooms</th>\n",
       "      <th>bathrooms</th>\n",
       "      <th>toilets</th>\n",
       "      <th>parking_space</th>\n",
       "      <th>price</th>\n",
       "    </tr>\n",
       "  </thead>\n",
       "  <tbody>\n",
       "    <tr>\n",
       "      <th>count</th>\n",
       "      <td>24326.000000</td>\n",
       "      <td>24326.000000</td>\n",
       "      <td>24326.000000</td>\n",
       "      <td>24326.000000</td>\n",
       "      <td>2.432600e+04</td>\n",
       "    </tr>\n",
       "    <tr>\n",
       "      <th>mean</th>\n",
       "      <td>4.338814</td>\n",
       "      <td>4.600798</td>\n",
       "      <td>5.176355</td>\n",
       "      <td>4.041725</td>\n",
       "      <td>3.013802e+08</td>\n",
       "    </tr>\n",
       "    <tr>\n",
       "      <th>std</th>\n",
       "      <td>1.138497</td>\n",
       "      <td>1.163161</td>\n",
       "      <td>1.226253</td>\n",
       "      <td>1.399936</td>\n",
       "      <td>1.220403e+10</td>\n",
       "    </tr>\n",
       "    <tr>\n",
       "      <th>min</th>\n",
       "      <td>1.000000</td>\n",
       "      <td>1.000000</td>\n",
       "      <td>1.000000</td>\n",
       "      <td>1.000000</td>\n",
       "      <td>9.000000e+04</td>\n",
       "    </tr>\n",
       "    <tr>\n",
       "      <th>25%</th>\n",
       "      <td>4.000000</td>\n",
       "      <td>4.000000</td>\n",
       "      <td>5.000000</td>\n",
       "      <td>4.000000</td>\n",
       "      <td>5.200000e+07</td>\n",
       "    </tr>\n",
       "    <tr>\n",
       "      <th>50%</th>\n",
       "      <td>4.000000</td>\n",
       "      <td>5.000000</td>\n",
       "      <td>5.000000</td>\n",
       "      <td>4.000000</td>\n",
       "      <td>8.500000e+07</td>\n",
       "    </tr>\n",
       "    <tr>\n",
       "      <th>75%</th>\n",
       "      <td>5.000000</td>\n",
       "      <td>5.000000</td>\n",
       "      <td>6.000000</td>\n",
       "      <td>4.000000</td>\n",
       "      <td>1.600000e+08</td>\n",
       "    </tr>\n",
       "    <tr>\n",
       "      <th>max</th>\n",
       "      <td>9.000000</td>\n",
       "      <td>9.000000</td>\n",
       "      <td>9.000000</td>\n",
       "      <td>9.000000</td>\n",
       "      <td>1.800000e+12</td>\n",
       "    </tr>\n",
       "  </tbody>\n",
       "</table>\n",
       "</div>"
      ],
      "text/plain": [
       "           bedrooms     bathrooms       toilets  parking_space         price\n",
       "count  24326.000000  24326.000000  24326.000000   24326.000000  2.432600e+04\n",
       "mean       4.338814      4.600798      5.176355       4.041725  3.013802e+08\n",
       "std        1.138497      1.163161      1.226253       1.399936  1.220403e+10\n",
       "min        1.000000      1.000000      1.000000       1.000000  9.000000e+04\n",
       "25%        4.000000      4.000000      5.000000       4.000000  5.200000e+07\n",
       "50%        4.000000      5.000000      5.000000       4.000000  8.500000e+07\n",
       "75%        5.000000      5.000000      6.000000       4.000000  1.600000e+08\n",
       "max        9.000000      9.000000      9.000000       9.000000  1.800000e+12"
      ]
     },
     "execution_count": 4,
     "metadata": {},
     "output_type": "execute_result"
    }
   ],
   "source": [
    "# descriptive stat\n",
    "\n",
    "df.describe()"
   ]
  },
  {
   "cell_type": "code",
   "execution_count": 5,
   "id": "18480b65",
   "metadata": {},
   "outputs": [
    {
     "name": "stdout",
     "output_type": "stream",
     "text": [
      "<class 'pandas.core.frame.DataFrame'>\n",
      "RangeIndex: 24326 entries, 0 to 24325\n",
      "Data columns (total 8 columns):\n",
      " #   Column         Non-Null Count  Dtype  \n",
      "---  ------         --------------  -----  \n",
      " 0   bedrooms       24326 non-null  float64\n",
      " 1   bathrooms      24326 non-null  float64\n",
      " 2   toilets        24326 non-null  float64\n",
      " 3   parking_space  24326 non-null  float64\n",
      " 4   title          24326 non-null  object \n",
      " 5   town           24326 non-null  object \n",
      " 6   state          24326 non-null  object \n",
      " 7   price          24326 non-null  float64\n",
      "dtypes: float64(5), object(3)\n",
      "memory usage: 1.5+ MB\n"
     ]
    }
   ],
   "source": [
    "# info\n",
    "\n",
    "df.info()"
   ]
  },
  {
   "cell_type": "markdown",
   "id": "b8a801f5",
   "metadata": {},
   "source": [
    "* There is no missing values and all features are in the appropriate type"
   ]
  },
  {
   "cell_type": "code",
   "execution_count": 6,
   "id": "c8dd6335",
   "metadata": {},
   "outputs": [
    {
     "data": {
      "text/html": [
       "<div>\n",
       "<style scoped>\n",
       "    .dataframe tbody tr th:only-of-type {\n",
       "        vertical-align: middle;\n",
       "    }\n",
       "\n",
       "    .dataframe tbody tr th {\n",
       "        vertical-align: top;\n",
       "    }\n",
       "\n",
       "    .dataframe thead th {\n",
       "        text-align: right;\n",
       "    }\n",
       "</style>\n",
       "<table border=\"1\" class=\"dataframe\">\n",
       "  <thead>\n",
       "    <tr style=\"text-align: right;\">\n",
       "      <th></th>\n",
       "      <th>bedrooms</th>\n",
       "      <th>bathrooms</th>\n",
       "      <th>toilets</th>\n",
       "      <th>parking_space</th>\n",
       "      <th>price</th>\n",
       "    </tr>\n",
       "  </thead>\n",
       "  <tbody>\n",
       "    <tr>\n",
       "      <th>bedrooms</th>\n",
       "      <td>1.000000</td>\n",
       "      <td>0.726557</td>\n",
       "      <td>0.610501</td>\n",
       "      <td>0.158528</td>\n",
       "      <td>0.025734</td>\n",
       "    </tr>\n",
       "    <tr>\n",
       "      <th>bathrooms</th>\n",
       "      <td>0.726557</td>\n",
       "      <td>1.000000</td>\n",
       "      <td>0.719102</td>\n",
       "      <td>0.174129</td>\n",
       "      <td>0.021965</td>\n",
       "    </tr>\n",
       "    <tr>\n",
       "      <th>toilets</th>\n",
       "      <td>0.610501</td>\n",
       "      <td>0.719102</td>\n",
       "      <td>1.000000</td>\n",
       "      <td>0.225345</td>\n",
       "      <td>0.015486</td>\n",
       "    </tr>\n",
       "    <tr>\n",
       "      <th>parking_space</th>\n",
       "      <td>0.158528</td>\n",
       "      <td>0.174129</td>\n",
       "      <td>0.225345</td>\n",
       "      <td>1.000000</td>\n",
       "      <td>0.018370</td>\n",
       "    </tr>\n",
       "    <tr>\n",
       "      <th>price</th>\n",
       "      <td>0.025734</td>\n",
       "      <td>0.021965</td>\n",
       "      <td>0.015486</td>\n",
       "      <td>0.018370</td>\n",
       "      <td>1.000000</td>\n",
       "    </tr>\n",
       "  </tbody>\n",
       "</table>\n",
       "</div>"
      ],
      "text/plain": [
       "               bedrooms  bathrooms   toilets  parking_space     price\n",
       "bedrooms       1.000000   0.726557  0.610501       0.158528  0.025734\n",
       "bathrooms      0.726557   1.000000  0.719102       0.174129  0.021965\n",
       "toilets        0.610501   0.719102  1.000000       0.225345  0.015486\n",
       "parking_space  0.158528   0.174129  0.225345       1.000000  0.018370\n",
       "price          0.025734   0.021965  0.015486       0.018370  1.000000"
      ]
     },
     "execution_count": 6,
     "metadata": {},
     "output_type": "execute_result"
    }
   ],
   "source": [
    "# Check for correlation\n",
    "\n",
    "df.corr()"
   ]
  },
  {
   "cell_type": "code",
   "execution_count": 7,
   "id": "f1da4bef",
   "metadata": {},
   "outputs": [
    {
     "data": {
      "text/plain": [
       "<AxesSubplot:>"
      ]
     },
     "execution_count": 7,
     "metadata": {},
     "output_type": "execute_result"
    },
    {
     "data": {
      "image/png": "[encoded data removed]",
      "text/plain": [
       "<Figure size 432x288 with 2 Axes>"
      ]
     },
     "metadata": {
      "needs_background": "light"
     },
     "output_type": "display_data"
    }
   ],
   "source": [
    "# Visualize the correlation\n",
    "\n",
    "sns.heatmap(df.corr(),annot=True)"
   ]
  },
  {
   "cell_type": "markdown",
   "id": "d12c3fd0",
   "metadata": {},
   "source": [
    "**Total Number of Propertise"
   ]
  },
  {
   "cell_type": "code",
   "execution_count": 8,
   "id": "eae5f641",
   "metadata": {},
   "outputs": [
    {
     "data": {
      "text/plain": [
       "24326"
      ]
     },
     "execution_count": 8,
     "metadata": {},
     "output_type": "execute_result"
    }
   ],
   "source": [
    "len(df)"
   ]
  },
  {
   "cell_type": "markdown",
   "id": "fdce6ef0",
   "metadata": {},
   "source": [
    "**titles of properties**"
   ]
  },
  {
   "cell_type": "code",
   "execution_count": 9,
   "id": "70768b92",
   "metadata": {},
   "outputs": [
    {
     "data": {
      "text/plain": [
       "array(['Detached Duplex', 'Terraced Duplexes', 'Semi Detached Duplex',\n",
       "       'Detached Bungalow', 'Block of Flats', 'Semi Detached Bungalow',\n",
       "       'Terraced Bungalow'], dtype=object)"
      ]
     },
     "execution_count": 9,
     "metadata": {},
     "output_type": "execute_result"
    }
   ],
   "source": [
    "df['title'].unique()"
   ]
  },
  {
   "cell_type": "code",
   "execution_count": 10,
   "id": "f2c7f251",
   "metadata": {},
   "outputs": [
    {
     "name": "stdout",
     "output_type": "stream",
     "text": [
      "* Detached Duplex\n",
      "* Terraced Duplexes\n",
      "* Semi Detached Duplex\n",
      "* Detached Bungalow\n",
      "* Block of Flats\n",
      "* Semi Detached Bungalow\n",
      "* Terraced Bungalow\n",
      "\n",
      "There are 7 unique titles.\n"
     ]
    }
   ],
   "source": [
    "for t in df['title'].unique():\n",
    "    print(f'* {t}')\n",
    "    \n",
    "# print lenght\n",
    "print(f\"\\nThere are {len(df['title'].unique())} unique titles.\")"
   ]
  },
  {
   "cell_type": "markdown",
   "id": "00a7dd72",
   "metadata": {},
   "source": [
    "**Unique State of Propertise**"
   ]
  },
  {
   "cell_type": "code",
   "execution_count": 11,
   "id": "b5bdbcba",
   "metadata": {},
   "outputs": [
    {
     "name": "stdout",
     "output_type": "stream",
     "text": [
      "* Abuja\n",
      "* Lagos\n",
      "* Edo\n",
      "* Ogun\n",
      "* Oyo\n",
      "* Imo\n",
      "* Anambara\n",
      "* Rivers\n",
      "* Enugu\n",
      "* Kaduna\n",
      "* Kwara\n",
      "* Nasarawa\n",
      "* Abia\n",
      "* Delta\n",
      "* Akwa Ibom\n",
      "* Osun\n",
      "* Ekiti\n",
      "* Cross River\n",
      "* Kogi\n",
      "* Plateau\n",
      "* Kano\n",
      "* Katsina\n",
      "* Bayelsa\n",
      "* Borno\n",
      "* Niger\n",
      "\n",
      "There are 25 unique states.\n"
     ]
    }
   ],
   "source": [
    "for s in df['state'].unique():\n",
    "    print(f'* {s}')\n",
    "    \n",
    "# print lenght\n",
    "print(f\"\\nThere are {len(df['state'].unique())} unique states.\")"
   ]
  },
  {
   "cell_type": "markdown",
   "id": "e3e731e3",
   "metadata": {},
   "source": [
    "**Unique town**"
   ]
  },
  {
   "cell_type": "code",
   "execution_count": 12,
   "id": "26359366",
   "metadata": {},
   "outputs": [
    {
     "name": "stdout",
     "output_type": "stream",
     "text": [
      "* Mabushi\n",
      "* Katampe\n",
      "* Lekki\n",
      "* Ajah\n",
      "* Epe\n",
      "* Lokogoma District\n",
      "* Oredo\n",
      "* Victoria Island (VI)\n",
      "* Mowe Ofada\n",
      "* Ikeja\n",
      "* Ikoyi\n",
      "* Magodo\n",
      "* Kaura\n",
      "* Galadimawa\n",
      "* Gwarinpa\n",
      "* Abeokuta North\n",
      "* Lugbe District\n",
      "* Ibeju Lekki\n",
      "* Yaba\n",
      "* Sango Ota\n",
      "* Ifako-Ijaiye\n",
      "* Agege\n",
      "* Ikorodu\n",
      "* Jahi\n",
      "* Ibadan\n",
      "* Orozo\n",
      "* Ifo\n",
      "* Owerri North\n",
      "* Guzape District\n",
      "* Idu Industrial\n",
      "* Owerri Municipal\n",
      "* Isheri North\n",
      "* Utako\n",
      "* Port Harcourt\n",
      "* Kuje\n",
      "* Isheri\n",
      "* Life Camp\n",
      "* Ipaja\n",
      "* Ado-Odo/Ota\n",
      "* Dape\n",
      "* Mushin\n",
      "* Ejigbo\n",
      "* Isolo\n",
      "* Ojodu\n",
      "* Gaduwa\n",
      "* Enugu\n",
      "* Dakwo\n",
      "* Asokoro District\n",
      "* Alimosho\n",
      "* Sagamu\n",
      "* Chikun\n",
      "* Egbeda\n",
      "* Wuye\n",
      "* Kubwa\n",
      "* Shomolu\n",
      "* Ogudu\n",
      "* Owerri West\n",
      "* Ibafo\n",
      "* Surulere\n",
      "* Obio-Akpor\n",
      "* Ayobo\n",
      "* Apo\n",
      "* Mowe Town\n",
      "* Ibadan South-West\n",
      "* Wuse 2\n",
      "* Durumi\n",
      "* Simawa\n",
      "* Arepo\n",
      "* Ikotun\n",
      "* Oluyole\n",
      "* Maitama District\n",
      "* Maryland\n",
      "* Ido\n",
      "* Karsana\n",
      "* Wuse\n",
      "* Ilorin West\n",
      "* Kurudu\n",
      "* Karmo\n",
      "* Abeokuta South\n",
      "* KM 46\n",
      "* Gbagada\n",
      "* Idimu\n",
      "* Kaduna South\n",
      "* Magboro\n",
      "* Gudu\n",
      "* Kukwaba\n",
      "* Mbora (Nbora)\n",
      "* Obafemi Owode\n",
      "* Jabi\n",
      "* Karu\n",
      "* Ojo\n",
      "* Garki\n",
      "* Aba\n",
      "* Ogijo\n",
      "* Asaba\n",
      "* Uyo\n",
      "* Kosofe\n",
      "* Oyigbo\n",
      "* Karshi\n",
      "* Osogbo\n",
      "* Kado\n",
      "* Ilupeju\n",
      "* Afijio\n",
      "* Ketu\n",
      "* Ado-Ekiti\n",
      "* Ibadan North\n",
      "* Egor\n",
      "* Nyanya\n",
      "* Ibarapa North\n",
      "* Kyami\n",
      "* Ojota\n",
      "* Dutse\n",
      "* Nasarawa\n",
      "* Calabar\n",
      "* Kaduna North\n",
      "* Eleme\n",
      "* Kafe\n",
      "* Oshodi\n",
      "* Dakibiyu\n",
      "* Amuwo Odofin\n",
      "* Ijede\n",
      "* Bwari\n",
      "* Dekina\n",
      "* Jos South\n",
      "* Agbara-Igbesa\n",
      "* Ijaiye\n",
      "* Kagini\n",
      "* Ohaji/Egbema\n",
      "* Mpape\n",
      "* Apapa\n",
      "* Lagos Island\n",
      "* Gwagwalada\n",
      "* Ijoko\n",
      "* Diplomatic Zones\n",
      "* Akure\n",
      "* Ethiope West\n",
      "* Badagry\n",
      "* Kano\n",
      "* Ede South\n",
      "* Ilorin South\n",
      "* Oke-Aro\n",
      "* Oke-Odo\n",
      "* Ikot Ekpene\n",
      "* Kusada\n",
      "* Akinyele\n",
      "* Kabusa\n",
      "* Dei-Dei\n",
      "* Eket\n",
      "* Egbe\n",
      "* Udu\n",
      "* Ibadan North-East\n",
      "* Danja\n",
      "* Yewa South\n",
      "* Warri\n",
      "* Duboyi\n",
      "* Jikwoyi\n",
      "* Oyo West\n",
      "* Agbara\n",
      "* Ovia North-East\n",
      "* Yenagoa\n",
      "* Central Business District\n",
      "* Guzamala\n",
      "* Lokoja\n",
      "* Jos North\n",
      "* Orile\n",
      "* Wumba\n",
      "* Ibadan North-West\n",
      "* Eko Atlantic City\n",
      "* Imota\n",
      "* Ikwerre\n",
      "* Keffi\n",
      "* Ilorin East\n",
      "* Uvwie\n",
      "* Umuahia\n",
      "* Ijesha\n",
      "* Okene\n",
      "* Aniocha South\n",
      "* Ijebu Ode\n",
      "* Okpe\n",
      "* Ughelli South\n",
      "* Ewekoro\n",
      "* Nassarawa\n",
      "* Mararaba\n",
      "* Uhunmwonde\n",
      "* Ughelli North\n",
      "* Ibeju\n",
      "* Abraka\n",
      "* Paikoro\n",
      "* Ikpoba Okha\n",
      "\n",
      "There are 189 unique town.\n"
     ]
    }
   ],
   "source": [
    "for t in df['town'].unique():\n",
    "    print(f'* {t}')\n",
    "    \n",
    "# print lenght\n",
    "print(f\"\\nThere are {len(df['town'].unique())} unique town.\")"
   ]
  },
  {
   "cell_type": "markdown",
   "id": "4c68ae37",
   "metadata": {},
   "source": [
    "### Univariant Analsis"
   ]
  },
  {
   "cell_type": "markdown",
   "id": "7c7ad6fa",
   "metadata": {},
   "source": [
    "**Distribution of prices**"
   ]
  },
  {
   "cell_type": "code",
   "execution_count": 13,
   "id": "91bb220c",
   "metadata": {},
   "outputs": [
    {
     "data": {
      "image/png": "[encoded data removed]",
      "text/plain": [
       "<Figure size 432x288 with 1 Axes>"
      ]
     },
     "metadata": {
      "needs_background": "light"
     },
     "output_type": "display_data"
    }
   ],
   "source": [
    "sns.histplot(df[\"price\"], bins=20, kde=True)\n",
    "plt.title(\"Distribution of Prices\")\n",
    "plt.xlabel(\"Prices\")\n",
    "plt.ylabel(\"Counts\")\n",
    "plt.show()"
   ]
  },
  {
   "cell_type": "markdown",
   "id": "ae8f793c",
   "metadata": {},
   "source": [
    "### other EDA(Bivalent Analysis)\n",
    "1. avg price by state\n",
    "2. avg prie by town\n",
    "3. count of houses by state\n",
    "4. count of houses by state\n",
    "5. avg price by title"
   ]
  },
  {
   "cell_type": "markdown",
   "id": "80389e4b",
   "metadata": {},
   "source": [
    "### Model Buiding\n",
    "\n",
    "* Import model\n",
    "* Split data(test/Train)\n",
    "* Train Model\n",
    "* Predict using model"
   ]
  },
  {
   "cell_type": "code",
   "execution_count": 34,
   "id": "d54c80c8",
   "metadata": {},
   "outputs": [],
   "source": [
    "from sklearn.linear_model import LinearRegression\n",
    "from sklearn.model_selection import train_test_split\n",
    "\n",
    "from sklearn.preprocessing import OneHotEncoder # for label encoding"
   ]
  },
  {
   "cell_type": "code",
   "execution_count": 38,
   "id": "01dd380f",
   "metadata": {},
   "outputs": [],
   "source": [
    "# create an object(using onehotencoder)\n",
    "he= OneHotEncoder()"
   ]
  },
  {
   "cell_type": "code",
   "execution_count": 36,
   "id": "adc019d9",
   "metadata": {},
   "outputs": [
    {
     "data": {
      "text/plain": [
       "OneHotEncoder()"
      ]
     },
     "execution_count": 36,
     "metadata": {},
     "output_type": "execute_result"
    }
   ],
   "source": [
    "he.fit(df)"
   ]
  },
  {
   "cell_type": "code",
   "execution_count": 39,
   "id": "b8a5134c",
   "metadata": {},
   "outputs": [
    {
     "data": {
      "text/html": [
       "<div>\n",
       "<style scoped>\n",
       "    .dataframe tbody tr th:only-of-type {\n",
       "        vertical-align: middle;\n",
       "    }\n",
       "\n",
       "    .dataframe tbody tr th {\n",
       "        vertical-align: top;\n",
       "    }\n",
       "\n",
       "    .dataframe thead th {\n",
       "        text-align: right;\n",
       "    }\n",
       "</style>\n",
       "<table border=\"1\" class=\"dataframe\">\n",
       "  <thead>\n",
       "    <tr style=\"text-align: right;\">\n",
       "      <th></th>\n",
       "      <th>bedrooms</th>\n",
       "      <th>bathrooms</th>\n",
       "      <th>toilets</th>\n",
       "      <th>parking_space</th>\n",
       "      <th>price</th>\n",
       "      <th>title_Block of Flats</th>\n",
       "      <th>title_Detached Bungalow</th>\n",
       "      <th>title_Detached Duplex</th>\n",
       "      <th>title_Semi Detached Bungalow</th>\n",
       "      <th>title_Semi Detached Duplex</th>\n",
       "      <th>...</th>\n",
       "      <th>state_Kogi</th>\n",
       "      <th>state_Kwara</th>\n",
       "      <th>state_Lagos</th>\n",
       "      <th>state_Nasarawa</th>\n",
       "      <th>state_Niger</th>\n",
       "      <th>state_Ogun</th>\n",
       "      <th>state_Osun</th>\n",
       "      <th>state_Oyo</th>\n",
       "      <th>state_Plateau</th>\n",
       "      <th>state_Rivers</th>\n",
       "    </tr>\n",
       "  </thead>\n",
       "  <tbody>\n",
       "    <tr>\n",
       "      <th>0</th>\n",
       "      <td>6.0</td>\n",
       "      <td>5.0</td>\n",
       "      <td>5.0</td>\n",
       "      <td>4.0</td>\n",
       "      <td>450000000.0</td>\n",
       "      <td>0</td>\n",
       "      <td>0</td>\n",
       "      <td>1</td>\n",
       "      <td>0</td>\n",
       "      <td>0</td>\n",
       "      <td>...</td>\n",
       "      <td>0</td>\n",
       "      <td>0</td>\n",
       "      <td>0</td>\n",
       "      <td>0</td>\n",
       "      <td>0</td>\n",
       "      <td>0</td>\n",
       "      <td>0</td>\n",
       "      <td>0</td>\n",
       "      <td>0</td>\n",
       "      <td>0</td>\n",
       "    </tr>\n",
       "    <tr>\n",
       "      <th>1</th>\n",
       "      <td>4.0</td>\n",
       "      <td>5.0</td>\n",
       "      <td>5.0</td>\n",
       "      <td>4.0</td>\n",
       "      <td>800000000.0</td>\n",
       "      <td>0</td>\n",
       "      <td>0</td>\n",
       "      <td>0</td>\n",
       "      <td>0</td>\n",
       "      <td>0</td>\n",
       "      <td>...</td>\n",
       "      <td>0</td>\n",
       "      <td>0</td>\n",
       "      <td>0</td>\n",
       "      <td>0</td>\n",
       "      <td>0</td>\n",
       "      <td>0</td>\n",
       "      <td>0</td>\n",
       "      <td>0</td>\n",
       "      <td>0</td>\n",
       "      <td>0</td>\n",
       "    </tr>\n",
       "    <tr>\n",
       "      <th>2</th>\n",
       "      <td>4.0</td>\n",
       "      <td>5.0</td>\n",
       "      <td>5.0</td>\n",
       "      <td>4.0</td>\n",
       "      <td>120000000.0</td>\n",
       "      <td>0</td>\n",
       "      <td>0</td>\n",
       "      <td>1</td>\n",
       "      <td>0</td>\n",
       "      <td>0</td>\n",
       "      <td>...</td>\n",
       "      <td>0</td>\n",
       "      <td>0</td>\n",
       "      <td>1</td>\n",
       "      <td>0</td>\n",
       "      <td>0</td>\n",
       "      <td>0</td>\n",
       "      <td>0</td>\n",
       "      <td>0</td>\n",
       "      <td>0</td>\n",
       "      <td>0</td>\n",
       "    </tr>\n",
       "    <tr>\n",
       "      <th>3</th>\n",
       "      <td>4.0</td>\n",
       "      <td>4.0</td>\n",
       "      <td>5.0</td>\n",
       "      <td>6.0</td>\n",
       "      <td>40000000.0</td>\n",
       "      <td>0</td>\n",
       "      <td>0</td>\n",
       "      <td>1</td>\n",
       "      <td>0</td>\n",
       "      <td>0</td>\n",
       "      <td>...</td>\n",
       "      <td>0</td>\n",
       "      <td>0</td>\n",
       "      <td>1</td>\n",
       "      <td>0</td>\n",
       "      <td>0</td>\n",
       "      <td>0</td>\n",
       "      <td>0</td>\n",
       "      <td>0</td>\n",
       "      <td>0</td>\n",
       "      <td>0</td>\n",
       "    </tr>\n",
       "    <tr>\n",
       "      <th>4</th>\n",
       "      <td>4.0</td>\n",
       "      <td>4.0</td>\n",
       "      <td>5.0</td>\n",
       "      <td>2.0</td>\n",
       "      <td>75000000.0</td>\n",
       "      <td>0</td>\n",
       "      <td>0</td>\n",
       "      <td>0</td>\n",
       "      <td>0</td>\n",
       "      <td>1</td>\n",
       "      <td>...</td>\n",
       "      <td>0</td>\n",
       "      <td>0</td>\n",
       "      <td>1</td>\n",
       "      <td>0</td>\n",
       "      <td>0</td>\n",
       "      <td>0</td>\n",
       "      <td>0</td>\n",
       "      <td>0</td>\n",
       "      <td>0</td>\n",
       "      <td>0</td>\n",
       "    </tr>\n",
       "  </tbody>\n",
       "</table>\n",
       "<p>5 rows × 226 columns</p>\n",
       "</div>"
      ],
      "text/plain": [
       "   bedrooms  bathrooms  toilets  parking_space        price  \\\n",
       "0       6.0        5.0      5.0            4.0  450000000.0   \n",
       "1       4.0        5.0      5.0            4.0  800000000.0   \n",
       "2       4.0        5.0      5.0            4.0  120000000.0   \n",
       "3       4.0        4.0      5.0            6.0   40000000.0   \n",
       "4       4.0        4.0      5.0            2.0   75000000.0   \n",
       "\n",
       "   title_Block of Flats  title_Detached Bungalow  title_Detached Duplex  \\\n",
       "0                     0                        0                      1   \n",
       "1                     0                        0                      0   \n",
       "2                     0                        0                      1   \n",
       "3                     0                        0                      1   \n",
       "4                     0                        0                      0   \n",
       "\n",
       "   title_Semi Detached Bungalow  title_Semi Detached Duplex  ...  state_Kogi  \\\n",
       "0                             0                           0  ...           0   \n",
       "1                             0                           0  ...           0   \n",
       "2                             0                           0  ...           0   \n",
       "3                             0                           0  ...           0   \n",
       "4                             0                           1  ...           0   \n",
       "\n",
       "   state_Kwara  state_Lagos  state_Nasarawa  state_Niger  state_Ogun  \\\n",
       "0            0            0               0            0           0   \n",
       "1            0            0               0            0           0   \n",
       "2            0            1               0            0           0   \n",
       "3            0            1               0            0           0   \n",
       "4            0            1               0            0           0   \n",
       "\n",
       "   state_Osun  state_Oyo  state_Plateau  state_Rivers  \n",
       "0           0          0              0             0  \n",
       "1           0          0              0             0  \n",
       "2           0          0              0             0  \n",
       "3           0          0              0             0  \n",
       "4           0          0              0             0  \n",
       "\n",
       "[5 rows x 226 columns]"
      ]
     },
     "execution_count": 39,
     "metadata": {},
     "output_type": "execute_result"
    }
   ],
   "source": [
    "new_df = pd.get_dummies(df, columns=['title','town','state'])\n",
    "\n",
    "new_df.head()"
   ]
  },
  {
   "cell_type": "code",
   "execution_count": 15,
   "id": "b7ff315e",
   "metadata": {},
   "outputs": [
    {
     "data": {
      "text/html": [
       "<div>\n",
       "<style scoped>\n",
       "    .dataframe tbody tr th:only-of-type {\n",
       "        vertical-align: middle;\n",
       "    }\n",
       "\n",
       "    .dataframe tbody tr th {\n",
       "        vertical-align: top;\n",
       "    }\n",
       "\n",
       "    .dataframe thead th {\n",
       "        text-align: right;\n",
       "    }\n",
       "</style>\n",
       "<table border=\"1\" class=\"dataframe\">\n",
       "  <thead>\n",
       "    <tr style=\"text-align: right;\">\n",
       "      <th></th>\n",
       "      <th>bedrooms</th>\n",
       "      <th>bathrooms</th>\n",
       "      <th>toilets</th>\n",
       "      <th>parking_space</th>\n",
       "    </tr>\n",
       "  </thead>\n",
       "  <tbody>\n",
       "    <tr>\n",
       "      <th>0</th>\n",
       "      <td>6.0</td>\n",
       "      <td>5.0</td>\n",
       "      <td>5.0</td>\n",
       "      <td>4.0</td>\n",
       "    </tr>\n",
       "    <tr>\n",
       "      <th>1</th>\n",
       "      <td>4.0</td>\n",
       "      <td>5.0</td>\n",
       "      <td>5.0</td>\n",
       "      <td>4.0</td>\n",
       "    </tr>\n",
       "    <tr>\n",
       "      <th>2</th>\n",
       "      <td>4.0</td>\n",
       "      <td>5.0</td>\n",
       "      <td>5.0</td>\n",
       "      <td>4.0</td>\n",
       "    </tr>\n",
       "    <tr>\n",
       "      <th>3</th>\n",
       "      <td>4.0</td>\n",
       "      <td>4.0</td>\n",
       "      <td>5.0</td>\n",
       "      <td>6.0</td>\n",
       "    </tr>\n",
       "    <tr>\n",
       "      <th>4</th>\n",
       "      <td>4.0</td>\n",
       "      <td>4.0</td>\n",
       "      <td>5.0</td>\n",
       "      <td>2.0</td>\n",
       "    </tr>\n",
       "  </tbody>\n",
       "</table>\n",
       "</div>"
      ],
      "text/plain": [
       "   bedrooms  bathrooms  toilets  parking_space\n",
       "0       6.0        5.0      5.0            4.0\n",
       "1       4.0        5.0      5.0            4.0\n",
       "2       4.0        5.0      5.0            4.0\n",
       "3       4.0        4.0      5.0            6.0\n",
       "4       4.0        4.0      5.0            2.0"
      ]
     },
     "execution_count": 15,
     "metadata": {},
     "output_type": "execute_result"
    }
   ],
   "source": [
    "# split data into dependent and independent feature\n",
    "\n",
    "# X = df[[\"bedrooms\",\"bathrooms\",\"toilets\",\"parking_space\"]]\n",
    "# X.head()"
   ]
  },
  {
   "cell_type": "code",
   "execution_count": 16,
   "id": "06fd5bbf",
   "metadata": {},
   "outputs": [
    {
     "data": {
      "text/plain": [
       "0    450000000.0\n",
       "1    800000000.0\n",
       "2    120000000.0\n",
       "3     40000000.0\n",
       "4     75000000.0\n",
       "Name: price, dtype: float64"
      ]
     },
     "execution_count": 16,
     "metadata": {},
     "output_type": "execute_result"
    }
   ],
   "source": [
    "# y=df[\"price\"]\n",
    "# y.head()"
   ]
  },
  {
   "cell_type": "markdown",
   "id": "f1e60778",
   "metadata": {},
   "source": [
    "#### Train Test Split"
   ]
  },
  {
   "cell_type": "code",
   "execution_count": 17,
   "id": "3eced619",
   "metadata": {},
   "outputs": [],
   "source": [
    "# X_train, X_test, y_train, y_test = train_test_split(X, y, test_size=0.2)"
   ]
  },
  {
   "cell_type": "code",
   "execution_count": 18,
   "id": "f8498e70",
   "metadata": {},
   "outputs": [
    {
     "data": {
      "text/plain": [
       "(19460, 4)"
      ]
     },
     "execution_count": 18,
     "metadata": {},
     "output_type": "execute_result"
    }
   ],
   "source": [
    "# X_train.shape"
   ]
  },
  {
   "cell_type": "code",
   "execution_count": 19,
   "id": "df256707",
   "metadata": {},
   "outputs": [
    {
     "data": {
      "text/plain": [
       "(19460,)"
      ]
     },
     "execution_count": 19,
     "metadata": {},
     "output_type": "execute_result"
    }
   ],
   "source": [
    "# y_train.shape"
   ]
  },
  {
   "cell_type": "code",
   "execution_count": 20,
   "id": "03d02e87",
   "metadata": {},
   "outputs": [
    {
     "data": {
      "text/plain": [
       "(4866, 4)"
      ]
     },
     "execution_count": 20,
     "metadata": {},
     "output_type": "execute_result"
    }
   ],
   "source": [
    "# X_test.shape"
   ]
  },
  {
   "cell_type": "code",
   "execution_count": 21,
   "id": "ef4dfcb6",
   "metadata": {},
   "outputs": [
    {
     "data": {
      "text/plain": [
       "(4866,)"
      ]
     },
     "execution_count": 21,
     "metadata": {},
     "output_type": "execute_result"
    }
   ],
   "source": [
    "y_test.shape"
   ]
  },
  {
   "cell_type": "markdown",
   "id": "9d77f133",
   "metadata": {},
   "source": [
    "### Train the Model"
   ]
  },
  {
   "cell_type": "code",
   "execution_count": 22,
   "id": "2cd3bafe",
   "metadata": {},
   "outputs": [],
   "source": [
    "lm = LinearRegression()"
   ]
  },
  {
   "cell_type": "code",
   "execution_count": 23,
   "id": "dca11390",
   "metadata": {},
   "outputs": [
    {
     "data": {
      "text/plain": [
       "LinearRegression()"
      ]
     },
     "execution_count": 23,
     "metadata": {},
     "output_type": "execute_result"
    }
   ],
   "source": [
    "lm.fit(X_train, y_train) # imput the data into the model\n"
   ]
  },
  {
   "cell_type": "code",
   "execution_count": 24,
   "id": "40f4f593",
   "metadata": {},
   "outputs": [
    {
     "name": "stdout",
     "output_type": "stream",
     "text": [
      "Intercept -201408517.40847945\n"
     ]
    }
   ],
   "source": [
    "# to see the slope\n",
    "print(f\"Intercept {lm.intercept_}\")"
   ]
  },
  {
   "cell_type": "code",
   "execution_count": 25,
   "id": "be6239df",
   "metadata": {},
   "outputs": [
    {
     "name": "stdout",
     "output_type": "stream",
     "text": [
      "Coefficient [ 1.40257301e+08  1.42158524e+08 -1.74139773e+08  1.14459260e+07]\n"
     ]
    }
   ],
   "source": [
    "print(f\"Coefficient {lm.coef_}\")"
   ]
  },
  {
   "cell_type": "code",
   "execution_count": 26,
   "id": "6864a8b0",
   "metadata": {},
   "outputs": [
    {
     "data": {
      "text/html": [
       "<div>\n",
       "<style scoped>\n",
       "    .dataframe tbody tr th:only-of-type {\n",
       "        vertical-align: middle;\n",
       "    }\n",
       "\n",
       "    .dataframe tbody tr th {\n",
       "        vertical-align: top;\n",
       "    }\n",
       "\n",
       "    .dataframe thead th {\n",
       "        text-align: right;\n",
       "    }\n",
       "</style>\n",
       "<table border=\"1\" class=\"dataframe\">\n",
       "  <thead>\n",
       "    <tr style=\"text-align: right;\">\n",
       "      <th></th>\n",
       "      <th>coefficient</th>\n",
       "    </tr>\n",
       "  </thead>\n",
       "  <tbody>\n",
       "    <tr>\n",
       "      <th>bedrooms</th>\n",
       "      <td>1.402573e+08</td>\n",
       "    </tr>\n",
       "    <tr>\n",
       "      <th>bathrooms</th>\n",
       "      <td>1.421585e+08</td>\n",
       "    </tr>\n",
       "    <tr>\n",
       "      <th>toilets</th>\n",
       "      <td>-1.741398e+08</td>\n",
       "    </tr>\n",
       "    <tr>\n",
       "      <th>parking_space</th>\n",
       "      <td>1.144593e+07</td>\n",
       "    </tr>\n",
       "  </tbody>\n",
       "</table>\n",
       "</div>"
      ],
      "text/plain": [
       "                coefficient\n",
       "bedrooms       1.402573e+08\n",
       "bathrooms      1.421585e+08\n",
       "toilets       -1.741398e+08\n",
       "parking_space  1.144593e+07"
      ]
     },
     "execution_count": 26,
     "metadata": {},
     "output_type": "execute_result"
    }
   ],
   "source": [
    "coef_df = pd.DataFrame(lm.coef_, X.columns, columns = [\"coefficient\"])\n",
    "\n",
    "coef_df"
   ]
  },
  {
   "cell_type": "markdown",
   "id": "3a27f8cf",
   "metadata": {},
   "source": [
    "### Prediction"
   ]
  },
  {
   "cell_type": "code",
   "execution_count": 27,
   "id": "51965450",
   "metadata": {},
   "outputs": [
    {
     "data": {
      "text/plain": [
       "array([2.23061603e+08, 3.09460646e+08, 2.11615677e+08, ...,\n",
       "       2.45498148e+08, 1.07470965e+09, 2.45498148e+08])"
      ]
     },
     "execution_count": 27,
     "metadata": {},
     "output_type": "execute_result"
    }
   ],
   "source": [
    "y_pred = lm.predict(X_test)\n",
    "\n",
    "y_pred"
   ]
  },
  {
   "cell_type": "code",
   "execution_count": 28,
   "id": "ecd41a1f",
   "metadata": {},
   "outputs": [
    {
     "data": {
      "image/png": "[encoded data removed]",
      "text/plain": [
       "<Figure size 432x288 with 1 Axes>"
      ]
     },
     "metadata": {
      "needs_background": "light"
     },
     "output_type": "display_data"
    }
   ],
   "source": [
    "# compare the y_pred and y_test\n",
    "\n",
    "sns.scatterplot(x=y_test, y=y_pred)\n",
    "plt.title(\"Relationship of y_test and y_pred\")\n",
    "plt.show()"
   ]
  },
  {
   "cell_type": "markdown",
   "id": "1ff1a1f1",
   "metadata": {},
   "source": [
    "### Model Evaluation"
   ]
  },
  {
   "cell_type": "code",
   "execution_count": 29,
   "id": "779e6f0c",
   "metadata": {},
   "outputs": [],
   "source": [
    "from sklearn import metrics"
   ]
  },
  {
   "cell_type": "code",
   "execution_count": 30,
   "id": "efd4a53a",
   "metadata": {},
   "outputs": [
    {
     "name": "stdout",
     "output_type": "stream",
     "text": [
      "Mean Absolute Error 678863315.1593857.\n"
     ]
    }
   ],
   "source": [
    "print(f\"Mean Absolute Error {metrics.mean_absolute_error(y_test, y_pred)}.\")"
   ]
  },
  {
   "cell_type": "code",
   "execution_count": 31,
   "id": "75159cf1",
   "metadata": {},
   "outputs": [
    {
     "name": "stdout",
     "output_type": "stream",
     "text": [
      "Mean Square Error 7.131432474670825e+20.\n"
     ]
    }
   ],
   "source": [
    "print(f\"Mean Square Error {metrics.mean_squared_error(y_test, y_pred)}.\")"
   ]
  },
  {
   "cell_type": "code",
   "execution_count": 32,
   "id": "999ef5f5",
   "metadata": {},
   "outputs": [
    {
     "name": "stderr",
     "output_type": "stream",
     "text": [
      "C:\\ProgramData\\Anaconda3\\lib\\site-packages\\sklearn\\base.py:450: UserWarning: X does not have valid feature names, but LinearRegression was fitted with feature names\n",
      "  warnings.warn(\n"
     ]
    },
    {
     "data": {
      "text/plain": [
       "array([5.50805825e+08])"
      ]
     },
     "execution_count": 32,
     "metadata": {},
     "output_type": "execute_result"
    }
   ],
   "source": [
    "# bed=5,bath 6, toilet =5,packing_space =6\n",
    "\n",
    "lm.predict([[5,6,5,6]])"
   ]
  },
  {
   "cell_type": "markdown",
   "id": "a500c8ff",
   "metadata": {},
   "source": [
    "### encoding"
   ]
  },
  {
   "cell_type": "code",
   "execution_count": 42,
   "id": "62a27fb1",
   "metadata": {
    "scrolled": true
   },
   "outputs": [
    {
     "data": {
      "text/html": [
       "<div>\n",
       "<style scoped>\n",
       "    .dataframe tbody tr th:only-of-type {\n",
       "        vertical-align: middle;\n",
       "    }\n",
       "\n",
       "    .dataframe tbody tr th {\n",
       "        vertical-align: top;\n",
       "    }\n",
       "\n",
       "    .dataframe thead th {\n",
       "        text-align: right;\n",
       "    }\n",
       "</style>\n",
       "<table border=\"1\" class=\"dataframe\">\n",
       "  <thead>\n",
       "    <tr style=\"text-align: right;\">\n",
       "      <th></th>\n",
       "      <th>bedrooms</th>\n",
       "      <th>bathrooms</th>\n",
       "      <th>toilets</th>\n",
       "      <th>parking_space</th>\n",
       "      <th>title_Block of Flats</th>\n",
       "      <th>title_Detached Bungalow</th>\n",
       "      <th>title_Detached Duplex</th>\n",
       "      <th>title_Semi Detached Bungalow</th>\n",
       "      <th>title_Semi Detached Duplex</th>\n",
       "      <th>title_Terraced Bungalow</th>\n",
       "      <th>...</th>\n",
       "      <th>state_Kogi</th>\n",
       "      <th>state_Kwara</th>\n",
       "      <th>state_Lagos</th>\n",
       "      <th>state_Nasarawa</th>\n",
       "      <th>state_Niger</th>\n",
       "      <th>state_Ogun</th>\n",
       "      <th>state_Osun</th>\n",
       "      <th>state_Oyo</th>\n",
       "      <th>state_Plateau</th>\n",
       "      <th>state_Rivers</th>\n",
       "    </tr>\n",
       "  </thead>\n",
       "  <tbody>\n",
       "    <tr>\n",
       "      <th>0</th>\n",
       "      <td>6.0</td>\n",
       "      <td>5.0</td>\n",
       "      <td>5.0</td>\n",
       "      <td>4.0</td>\n",
       "      <td>0</td>\n",
       "      <td>0</td>\n",
       "      <td>1</td>\n",
       "      <td>0</td>\n",
       "      <td>0</td>\n",
       "      <td>0</td>\n",
       "      <td>...</td>\n",
       "      <td>0</td>\n",
       "      <td>0</td>\n",
       "      <td>0</td>\n",
       "      <td>0</td>\n",
       "      <td>0</td>\n",
       "      <td>0</td>\n",
       "      <td>0</td>\n",
       "      <td>0</td>\n",
       "      <td>0</td>\n",
       "      <td>0</td>\n",
       "    </tr>\n",
       "    <tr>\n",
       "      <th>1</th>\n",
       "      <td>4.0</td>\n",
       "      <td>5.0</td>\n",
       "      <td>5.0</td>\n",
       "      <td>4.0</td>\n",
       "      <td>0</td>\n",
       "      <td>0</td>\n",
       "      <td>0</td>\n",
       "      <td>0</td>\n",
       "      <td>0</td>\n",
       "      <td>0</td>\n",
       "      <td>...</td>\n",
       "      <td>0</td>\n",
       "      <td>0</td>\n",
       "      <td>0</td>\n",
       "      <td>0</td>\n",
       "      <td>0</td>\n",
       "      <td>0</td>\n",
       "      <td>0</td>\n",
       "      <td>0</td>\n",
       "      <td>0</td>\n",
       "      <td>0</td>\n",
       "    </tr>\n",
       "    <tr>\n",
       "      <th>2</th>\n",
       "      <td>4.0</td>\n",
       "      <td>5.0</td>\n",
       "      <td>5.0</td>\n",
       "      <td>4.0</td>\n",
       "      <td>0</td>\n",
       "      <td>0</td>\n",
       "      <td>1</td>\n",
       "      <td>0</td>\n",
       "      <td>0</td>\n",
       "      <td>0</td>\n",
       "      <td>...</td>\n",
       "      <td>0</td>\n",
       "      <td>0</td>\n",
       "      <td>1</td>\n",
       "      <td>0</td>\n",
       "      <td>0</td>\n",
       "      <td>0</td>\n",
       "      <td>0</td>\n",
       "      <td>0</td>\n",
       "      <td>0</td>\n",
       "      <td>0</td>\n",
       "    </tr>\n",
       "    <tr>\n",
       "      <th>3</th>\n",
       "      <td>4.0</td>\n",
       "      <td>4.0</td>\n",
       "      <td>5.0</td>\n",
       "      <td>6.0</td>\n",
       "      <td>0</td>\n",
       "      <td>0</td>\n",
       "      <td>1</td>\n",
       "      <td>0</td>\n",
       "      <td>0</td>\n",
       "      <td>0</td>\n",
       "      <td>...</td>\n",
       "      <td>0</td>\n",
       "      <td>0</td>\n",
       "      <td>1</td>\n",
       "      <td>0</td>\n",
       "      <td>0</td>\n",
       "      <td>0</td>\n",
       "      <td>0</td>\n",
       "      <td>0</td>\n",
       "      <td>0</td>\n",
       "      <td>0</td>\n",
       "    </tr>\n",
       "    <tr>\n",
       "      <th>4</th>\n",
       "      <td>4.0</td>\n",
       "      <td>4.0</td>\n",
       "      <td>5.0</td>\n",
       "      <td>2.0</td>\n",
       "      <td>0</td>\n",
       "      <td>0</td>\n",
       "      <td>0</td>\n",
       "      <td>0</td>\n",
       "      <td>1</td>\n",
       "      <td>0</td>\n",
       "      <td>...</td>\n",
       "      <td>0</td>\n",
       "      <td>0</td>\n",
       "      <td>1</td>\n",
       "      <td>0</td>\n",
       "      <td>0</td>\n",
       "      <td>0</td>\n",
       "      <td>0</td>\n",
       "      <td>0</td>\n",
       "      <td>0</td>\n",
       "      <td>0</td>\n",
       "    </tr>\n",
       "  </tbody>\n",
       "</table>\n",
       "<p>5 rows × 225 columns</p>\n",
       "</div>"
      ],
      "text/plain": [
       "   bedrooms  bathrooms  toilets  parking_space  title_Block of Flats  \\\n",
       "0       6.0        5.0      5.0            4.0                     0   \n",
       "1       4.0        5.0      5.0            4.0                     0   \n",
       "2       4.0        5.0      5.0            4.0                     0   \n",
       "3       4.0        4.0      5.0            6.0                     0   \n",
       "4       4.0        4.0      5.0            2.0                     0   \n",
       "\n",
       "   title_Detached Bungalow  title_Detached Duplex  \\\n",
       "0                        0                      1   \n",
       "1                        0                      0   \n",
       "2                        0                      1   \n",
       "3                        0                      1   \n",
       "4                        0                      0   \n",
       "\n",
       "   title_Semi Detached Bungalow  title_Semi Detached Duplex  \\\n",
       "0                             0                           0   \n",
       "1                             0                           0   \n",
       "2                             0                           0   \n",
       "3                             0                           0   \n",
       "4                             0                           1   \n",
       "\n",
       "   title_Terraced Bungalow  ...  state_Kogi  state_Kwara  state_Lagos  \\\n",
       "0                        0  ...           0            0            0   \n",
       "1                        0  ...           0            0            0   \n",
       "2                        0  ...           0            0            1   \n",
       "3                        0  ...           0            0            1   \n",
       "4                        0  ...           0            0            1   \n",
       "\n",
       "   state_Nasarawa  state_Niger  state_Ogun  state_Osun  state_Oyo  \\\n",
       "0               0            0           0           0          0   \n",
       "1               0            0           0           0          0   \n",
       "2               0            0           0           0          0   \n",
       "3               0            0           0           0          0   \n",
       "4               0            0           0           0          0   \n",
       "\n",
       "   state_Plateau  state_Rivers  \n",
       "0              0             0  \n",
       "1              0             0  \n",
       "2              0             0  \n",
       "3              0             0  \n",
       "4              0             0  \n",
       "\n",
       "[5 rows x 225 columns]"
      ]
     },
     "execution_count": 42,
     "metadata": {},
     "output_type": "execute_result"
    }
   ],
   "source": [
    "X= new_df.drop(columns=['price'])\n",
    "               \n",
    "X.head()\n",
    "               "
   ]
  },
  {
   "cell_type": "code",
   "execution_count": 43,
   "id": "1b6a1028",
   "metadata": {},
   "outputs": [
    {
     "data": {
      "text/plain": [
       "0    450000000.0\n",
       "1    800000000.0\n",
       "2    120000000.0\n",
       "3     40000000.0\n",
       "4     75000000.0\n",
       "Name: price, dtype: float64"
      ]
     },
     "execution_count": 43,
     "metadata": {},
     "output_type": "execute_result"
    }
   ],
   "source": [
    "y= new_df['price']\n",
    "\n",
    "y.head()"
   ]
  },
  {
   "cell_type": "markdown",
   "id": "932ae4ae",
   "metadata": {},
   "source": [
    "### test train "
   ]
  },
  {
   "cell_type": "code",
   "execution_count": 44,
   "id": "7c5d7243",
   "metadata": {},
   "outputs": [],
   "source": [
    "X_train, X_test, y_train, y_test = train_test_split(X, y, test_size=0.2)"
   ]
  },
  {
   "cell_type": "code",
   "execution_count": 45,
   "id": "f124f02d",
   "metadata": {},
   "outputs": [
    {
     "data": {
      "text/plain": [
       "(19460, 225)"
      ]
     },
     "execution_count": 45,
     "metadata": {},
     "output_type": "execute_result"
    }
   ],
   "source": [
    " X_train.shape"
   ]
  },
  {
   "cell_type": "code",
   "execution_count": 46,
   "id": "ae3f2d16",
   "metadata": {},
   "outputs": [
    {
     "data": {
      "text/plain": [
       "(19460,)"
      ]
     },
     "execution_count": 46,
     "metadata": {},
     "output_type": "execute_result"
    }
   ],
   "source": [
    " y_train.shape"
   ]
  },
  {
   "cell_type": "code",
   "execution_count": 47,
   "id": "96efb33a",
   "metadata": {},
   "outputs": [
    {
     "data": {
      "text/plain": [
       "(4866, 225)"
      ]
     },
     "execution_count": 47,
     "metadata": {},
     "output_type": "execute_result"
    }
   ],
   "source": [
    "X_test.shape"
   ]
  },
  {
   "cell_type": "code",
   "execution_count": 48,
   "id": "012e0e68",
   "metadata": {},
   "outputs": [
    {
     "data": {
      "text/plain": [
       "(4866,)"
      ]
     },
     "execution_count": 48,
     "metadata": {},
     "output_type": "execute_result"
    }
   ],
   "source": [
    "y_test.shape"
   ]
  },
  {
   "cell_type": "code",
   "execution_count": 49,
   "id": "50d81ad2",
   "metadata": {},
   "outputs": [],
   "source": [
    "lm = LinearRegression()"
   ]
  },
  {
   "cell_type": "code",
   "execution_count": 50,
   "id": "cd3ee9a1",
   "metadata": {},
   "outputs": [
    {
     "data": {
      "text/plain": [
       "LinearRegression()"
      ]
     },
     "execution_count": 50,
     "metadata": {},
     "output_type": "execute_result"
    }
   ],
   "source": [
    "lm.fit(X_train, y_train)"
   ]
  },
  {
   "cell_type": "code",
   "execution_count": 51,
   "id": "ab5a0a73",
   "metadata": {},
   "outputs": [
    {
     "name": "stdout",
     "output_type": "stream",
     "text": [
      "Intercept 6.846213959115893e+18\n"
     ]
    }
   ],
   "source": [
    "print(f\"Intercept {lm.intercept_}\")"
   ]
  },
  {
   "cell_type": "code",
   "execution_count": 52,
   "id": "d2b8fedd",
   "metadata": {},
   "outputs": [
    {
     "name": "stdout",
     "output_type": "stream",
     "text": [
      "Coefficient [ 2.04122278e+08 -4.24276905e+05  1.06308233e+08  1.60671116e+08\n",
      " -6.78812315e+18 -6.78812315e+18 -6.78812315e+18 -6.78812315e+18\n",
      " -6.78812315e+18 -6.78812315e+18 -6.78812315e+18  1.21149578e+16\n",
      " -1.31761120e+16 -1.31761125e+16 -2.03851278e+16 -8.46907059e+16\n",
      " -1.31761123e+16 -1.31761120e+16 -1.31761123e+16 -1.31761117e+16\n",
      " -1.31761122e+16 -1.31761120e+16 -1.31761119e+16 -1.31761121e+16\n",
      " -1.31761122e+16 -1.31761123e+16 -2.03851277e+16 -1.31761118e+16\n",
      " -1.31761121e+16 -1.31761123e+16 -2.03851276e+16 -1.31761117e+16\n",
      " -1.31761120e+16 -1.31761122e+16 -1.31761120e+16 -2.49678882e+16\n",
      " -1.31761117e+16 -2.27217391e+15 -1.31761116e+16 -1.31761121e+16\n",
      " -2.48219696e+16 -1.31761118e+16 -1.31761118e+16 -3.81362347e+16\n",
      " -1.31761120e+16 -1.31761123e+16 -1.31761119e+16 -1.31761116e+16\n",
      " -7.11551176e+16 -1.31761121e+16 -1.31761115e+16 -3.53088574e+16\n",
      " -1.31761124e+16 -2.88230888e+12 -1.31761118e+16 -1.31761124e+16\n",
      " -4.30702778e+16 -1.31761116e+16 -2.03851281e+16 -1.31761118e+16\n",
      " -1.31761122e+16 -1.31761121e+16 -1.31761121e+16 -1.31761121e+16\n",
      " -1.31761120e+16 -3.04636561e+16 -1.31761117e+16 -1.31761119e+16\n",
      " -1.31761121e+16 -1.31761120e+16 -1.31761114e+16 -1.31761118e+16\n",
      " -1.31761119e+16 -1.31761122e+16 -1.31761123e+16 -1.31761117e+16\n",
      " -1.31761119e+16 -1.31761120e+16 -1.31761120e+16 -1.31761120e+16\n",
      " -1.31761121e+16 -1.31761112e+16 -1.31761123e+16 -1.31761126e+16\n",
      " -1.31761121e+16 -1.31761125e+16  5.41754220e+13 -1.31761121e+16\n",
      " -1.31761121e+16 -1.31761121e+16 -2.88180210e+12 -1.31761121e+16\n",
      " -1.31761102e+16 -3.53088585e+16 -1.31761118e+16 -1.77370887e+16\n",
      " -1.77370890e+16 -1.77370887e+16 -1.31761121e+16 -1.31761122e+16\n",
      " -1.31761120e+16 -1.31761127e+16 -1.31761124e+16 -1.31761122e+16\n",
      " -1.31761119e+16 -1.31761121e+16 -1.31761115e+16 -2.84067205e+15\n",
      " -2.84067196e+15 -1.31761123e+16 -1.31761117e+16 -1.31761120e+16\n",
      " -2.27217373e+15 -2.27217354e+15 -1.31761120e+16 -2.11151174e+08\n",
      " -1.74277622e+16 -1.31761120e+16 -1.31761120e+16 -1.31761121e+16\n",
      " -1.31761119e+16 -1.31761119e+16 -1.31761122e+16 -1.31761112e+16\n",
      " -1.31761122e+16 -1.31761121e+16 -1.31761119e+16 -1.31761118e+16\n",
      " -1.31761122e+16 -1.31761120e+16  2.45494870e+07 -1.31761119e+16\n",
      " -1.31761120e+16 -1.31761121e+16 -1.31761120e+16 -1.31761120e+16\n",
      " -3.81362352e+16 -1.31761120e+16 -1.31761120e+16 -1.31761122e+16\n",
      " -1.31761122e+16 -1.31761117e+16 -1.31761124e+16 -1.31761121e+16\n",
      " -1.31761120e+16 -1.31761120e+16 -1.31761122e+16 -1.31761121e+16\n",
      " -1.31761117e+16  4.80000000e+01 -1.74277624e+16 -1.31761126e+16\n",
      " -1.31761121e+16 -1.31761123e+16 -1.31761126e+16 -1.31761121e+16\n",
      "  7.18717844e+16 -1.31761122e+16 -1.31761122e+16 -1.31761125e+16\n",
      " -1.31761124e+16 -1.31761127e+16 -3.81362347e+16 -2.03851265e+16\n",
      " -1.31761121e+16 -3.53088574e+16 -1.31761123e+16 -1.31761120e+16\n",
      " -1.31761121e+16 -7.11551182e+16 -3.53088586e+16  7.18717847e+16\n",
      "  7.18717848e+16  7.18717848e+16 -1.31761126e+16 -1.31761127e+16\n",
      " -2.99861565e+16 -1.31761123e+16 -1.31761121e+16 -1.31761122e+16\n",
      " -1.31761122e+16 -1.31761121e+16 -1.31761121e+16 -2.03851266e+16\n",
      " -2.03851278e+16 -2.03851287e+16 -3.53088569e+16 -2.04890966e-08\n",
      " -1.31761120e+16 -2.03851273e+16 -2.88217467e+12 -1.31761120e+16\n",
      " -2.03851276e+16 -1.31761120e+16 -1.31761120e+16 -1.31761119e+16\n",
      " -1.31761121e+16 -1.31761120e+16 -2.90266805e+16 -1.31761123e+16\n",
      " -7.02057651e+16 -4.49146949e+16 -5.80879248e+16 -4.49146949e+16\n",
      " -2.90641268e+16 -2.76271508e+16 -3.31229192e+16 -3.77056795e+16\n",
      " -2.27819496e+16  2.65998991e+16 -1.50205293e+16 -1.29962592e+17\n",
      " -5.58186332e+16 -4.06630443e+16 -3.32688375e+16 -1.99545720e+16\n",
      " -4.03537181e+16 -4.49146948e+16 -4.49146951e+16 -2.81046503e+16\n",
      " -4.49146947e+16  1.30643111e+16 -4.49146950e+16 -5.52501353e+16\n",
      " -4.49146949e+16]\n"
     ]
    }
   ],
   "source": [
    "print(f\"Coefficient {lm.coef_}\")"
   ]
  },
  {
   "cell_type": "code",
   "execution_count": 53,
   "id": "7830e73f",
   "metadata": {},
   "outputs": [
    {
     "data": {
      "text/html": [
       "<div>\n",
       "<style scoped>\n",
       "    .dataframe tbody tr th:only-of-type {\n",
       "        vertical-align: middle;\n",
       "    }\n",
       "\n",
       "    .dataframe tbody tr th {\n",
       "        vertical-align: top;\n",
       "    }\n",
       "\n",
       "    .dataframe thead th {\n",
       "        text-align: right;\n",
       "    }\n",
       "</style>\n",
       "<table border=\"1\" class=\"dataframe\">\n",
       "  <thead>\n",
       "    <tr style=\"text-align: right;\">\n",
       "      <th></th>\n",
       "      <th>coefficient</th>\n",
       "    </tr>\n",
       "  </thead>\n",
       "  <tbody>\n",
       "    <tr>\n",
       "      <th>bedrooms</th>\n",
       "      <td>2.041223e+08</td>\n",
       "    </tr>\n",
       "    <tr>\n",
       "      <th>bathrooms</th>\n",
       "      <td>-4.242769e+05</td>\n",
       "    </tr>\n",
       "    <tr>\n",
       "      <th>toilets</th>\n",
       "      <td>1.063082e+08</td>\n",
       "    </tr>\n",
       "    <tr>\n",
       "      <th>parking_space</th>\n",
       "      <td>1.606711e+08</td>\n",
       "    </tr>\n",
       "    <tr>\n",
       "      <th>title_Block of Flats</th>\n",
       "      <td>-6.788123e+18</td>\n",
       "    </tr>\n",
       "    <tr>\n",
       "      <th>...</th>\n",
       "      <td>...</td>\n",
       "    </tr>\n",
       "    <tr>\n",
       "      <th>state_Ogun</th>\n",
       "      <td>-4.491469e+16</td>\n",
       "    </tr>\n",
       "    <tr>\n",
       "      <th>state_Osun</th>\n",
       "      <td>1.306431e+16</td>\n",
       "    </tr>\n",
       "    <tr>\n",
       "      <th>state_Oyo</th>\n",
       "      <td>-4.491469e+16</td>\n",
       "    </tr>\n",
       "    <tr>\n",
       "      <th>state_Plateau</th>\n",
       "      <td>-5.525014e+16</td>\n",
       "    </tr>\n",
       "    <tr>\n",
       "      <th>state_Rivers</th>\n",
       "      <td>-4.491469e+16</td>\n",
       "    </tr>\n",
       "  </tbody>\n",
       "</table>\n",
       "<p>225 rows × 1 columns</p>\n",
       "</div>"
      ],
      "text/plain": [
       "                       coefficient\n",
       "bedrooms              2.041223e+08\n",
       "bathrooms            -4.242769e+05\n",
       "toilets               1.063082e+08\n",
       "parking_space         1.606711e+08\n",
       "title_Block of Flats -6.788123e+18\n",
       "...                            ...\n",
       "state_Ogun           -4.491469e+16\n",
       "state_Osun            1.306431e+16\n",
       "state_Oyo            -4.491469e+16\n",
       "state_Plateau        -5.525014e+16\n",
       "state_Rivers         -4.491469e+16\n",
       "\n",
       "[225 rows x 1 columns]"
      ]
     },
     "execution_count": 53,
     "metadata": {},
     "output_type": "execute_result"
    }
   ],
   "source": [
    "coef_df = pd.DataFrame(lm.coef_, X.columns, columns = [\"coefficient\"])\n",
    "\n",
    "coef_df"
   ]
  },
  {
   "cell_type": "code",
   "execution_count": 54,
   "id": "251b1159",
   "metadata": {},
   "outputs": [
    {
     "data": {
      "text/plain": [
       "array([ 5.89402112e+08,  2.68060672e+08,  9.74100480e+07, ...,\n",
       "       -4.23690240e+07, -1.24477440e+07,  5.34616064e+08])"
      ]
     },
     "execution_count": 54,
     "metadata": {},
     "output_type": "execute_result"
    }
   ],
   "source": [
    "y_pred = lm.predict(X_test)\n",
    "\n",
    "y_pred"
   ]
  },
  {
   "cell_type": "code",
   "execution_count": 55,
   "id": "8f61fb64",
   "metadata": {},
   "outputs": [
    {
     "data": {
      "image/png": "[encoded data removed]",
      "text/plain": [
       "<Figure size 432x288 with 1 Axes>"
      ]
     },
     "metadata": {
      "needs_background": "light"
     },
     "output_type": "display_data"
    }
   ],
   "source": [
    "# compare the y_pred and y_test\n",
    "\n",
    "sns.scatterplot(x=y_test, y=y_pred)\n",
    "plt.title(\"Relationship of y_test and y_pred\")\n",
    "plt.show()"
   ]
  },
  {
   "cell_type": "code",
   "execution_count": 56,
   "id": "c2197ac1",
   "metadata": {},
   "outputs": [],
   "source": [
    "from sklearn import metrics"
   ]
  },
  {
   "cell_type": "code",
   "execution_count": 57,
   "id": "6b2dd717",
   "metadata": {},
   "outputs": [
    {
     "name": "stdout",
     "output_type": "stream",
     "text": [
      "Mean Absolute Error 35911623934693.7.\n"
     ]
    }
   ],
   "source": [
    "print(f\"Mean Absolute Error {metrics.mean_absolute_error(y_test, y_pred)}.\")"
   ]
  },
  {
   "cell_type": "code",
   "execution_count": 58,
   "id": "bc72ef9c",
   "metadata": {},
   "outputs": [
    {
     "name": "stdout",
     "output_type": "stream",
     "text": [
      "Mean Square Error 1.7862550952806088e+30.\n"
     ]
    }
   ],
   "source": [
    "print(f\"Mean Square Error {metrics.mean_squared_error(y_test, y_pred)}.\")"
   ]
  },
  {
   "cell_type": "code",
   "execution_count": 60,
   "id": "b9c78344",
   "metadata": {},
   "outputs": [
    {
     "data": {
      "text/plain": [
       "array([ 5.89402112e+08,  2.68060672e+08,  9.74100480e+07, ...,\n",
       "       -4.23690240e+07, -1.24477440e+07,  5.34616064e+08])"
      ]
     },
     "execution_count": 60,
     "metadata": {},
     "output_type": "execute_result"
    }
   ],
   "source": [
    "lm.predict(X_test)"
   ]
  },
  {
   "cell_type": "markdown",
   "id": "f4614bcd",
   "metadata": {},
   "source": [
    "### KNN (K-nearest neighbors)/ other models"
   ]
  },
  {
   "cell_type": "code",
   "execution_count": 64,
   "id": "ae3a1665",
   "metadata": {},
   "outputs": [],
   "source": [
    "from sklearn.neighbors import KNeighborsRegressor\n",
    "from sklearn.ensemble import RandomForestRegressor, GradientBoostingRegressor\n",
    "from sklearn.tree import DecisionTreeRegressor\n",
    "from sklearn.metrics import mean_squared_error, r2_score"
   ]
  },
  {
   "cell_type": "code",
   "execution_count": 65,
   "id": "1857ece6",
   "metadata": {},
   "outputs": [
    {
     "name": "stdout",
     "output_type": "stream",
     "text": [
      "Linear Regression: \n",
      "MSE:1786255095280608801191903625216.000000\n",
      "R2 Score: -26679112440.8497\n",
      "-*-*-*-*-*-*-*-*-*-*-\n",
      "Decision Tree Regression: \n",
      "MSE:66906608278946734080.000000\n",
      "R2 Score: 0.0007\n",
      "-*-*-*-*-*-*-*-*-*-*-\n",
      "Random Forest Regression: \n",
      "MSE:68134233108824530944.000000\n",
      "R2 Score: -0.0176\n",
      "-*-*-*-*-*-*-*-*-*-*-\n",
      "Gradient Boosting Regression: \n",
      "MSE:70338202251978244096.000000\n",
      "R2 Score: -0.0506\n",
      "-*-*-*-*-*-*-*-*-*-*-\n",
      "KNN Regression: \n",
      "MSE:93680076634861322240.000000\n",
      "R2 Score: -0.3992\n",
      "-*-*-*-*-*-*-*-*-*-*-\n"
     ]
    }
   ],
   "source": [
    "models = {\"Linear Regression\": LinearRegression(),\n",
    "          \"Decision Tree Regression\": DecisionTreeRegressor(),\n",
    "          \"Random Forest Regression\": RandomForestRegressor(),\n",
    "          \"Gradient Boosting Regression\": GradientBoostingRegressor(),\n",
    "          \"KNN Regression\": KNeighborsRegressor()\n",
    "    \n",
    "}\n",
    "\n",
    "\n",
    "for name, model in models.items():\n",
    "    model.fit(X_train, y_train) # Train model\n",
    "    y_pred = model.predict(X_test) # make prediction\n",
    "    \n",
    "    # calculate MSE\n",
    "    \n",
    "    mse= mean_squared_error(y_test, y_pred)\n",
    "    \n",
    "    # calculate R2 score\n",
    "    \n",
    "    r2 = r2_score(y_test,y_pred)\n",
    "    \n",
    "    print(f\"{name}: \")\n",
    "    print(f\"MSE:{mse:4f}\")\n",
    "    print(f\"R2 Score: {r2:.4f}\")\n",
    "    print(\"-*-*-*-*-*-*-*-*-*-*-\")"
   ]
  },
  {
   "cell_type": "markdown",
   "id": "ec3d1d07",
   "metadata": {},
   "source": [
    "### Saving Model"
   ]
  },
  {
   "cell_type": "code",
   "execution_count": 66,
   "id": "e6989df0",
   "metadata": {},
   "outputs": [],
   "source": [
    "import joblib"
   ]
  },
  {
   "cell_type": "code",
   "execution_count": 67,
   "id": "32722ac8",
   "metadata": {},
   "outputs": [
    {
     "data": {
      "text/plain": [
       "['model.pk']"
      ]
     },
     "execution_count": 67,
     "metadata": {},
     "output_type": "execute_result"
    }
   ],
   "source": [
    "# dump model in a file\n",
    "joblib.dump(lm, 'model.pk')"
   ]
  },
  {
   "cell_type": "code",
   "execution_count": null,
   "id": "690f3412",
   "metadata": {},
   "outputs": [],
   "source": []
  }
 ],
 "metadata": {
  "kernelspec": {
   "display_name": "Python 3 (ipykernel)",
   "language": "python",
   "name": "python3"
  },
  "language_info": {
   "codemirror_mode": {
    "name": "ipython",
    "version": 3
   },
   "file_extension": ".py",
   "mimetype": "text/x-python",
   "name": "python",
   "nbconvert_exporter": "python",
   "pygments_lexer": "ipython3",
   "version": "3.9.12"
  }
 },
 "nbformat": 4,
 "nbformat_minor": 5
}
